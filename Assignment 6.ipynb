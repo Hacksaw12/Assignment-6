{
 "cells": [
  {
   "cell_type": "markdown",
   "id": "dcdb33d5",
   "metadata": {},
   "source": [
    "# 1. What are escape characters, and how do you use them?\n",
    "Ans:> To insert characters that are illegal in a string, use an escape character. An escape character is a backslash \\ followed by the character you want to insert. \n",
    "  "
   ]
  },
  {
   "cell_type": "markdown",
   "id": "42275ba7",
   "metadata": {},
   "source": [
    "# 2. What do the escape characters n and t stand for?\n",
    "Ans:> In Python strings, the backslash \"\\\" is a special character, also called the \"escape\" character. It is used in representing certain whitespace characters: \"\\t\" is a tab, \"\\n\" is a newline, and \"\\r\" is a carriage return. ... This is called \"escaping\". For example, \"\\'\" is the single quote character.\n"
   ]
  },
  {
   "cell_type": "markdown",
   "id": "4a07e9fb",
   "metadata": {},
   "source": [
    "# 3. What is the way to include backslash characters in a string?\n",
    "Ans:> If you want an actual backslash in the string or regex, you have to write two: \\\\ . If you're using a string to create a regular expression (rather than using a regular expression literal as I did above), note that you're dealing with two levels: The string level, and the regular expression level.\n"
   ]
  },
  {
   "cell_type": "markdown",
   "id": "7bcd61a6",
   "metadata": {},
   "source": [
    "# 4. The string “Howl’s Moving Cast” is a correct value. Why isn’t the single quote character in the word Howl’s not escaped a problem?\n",
    "Ans:> “Howl’s Moving Cast” is not a correct value, because it odes not includes the escape \\.\n"
   ]
  },
  {
   "cell_type": "markdown",
   "id": "b1d392ec",
   "metadata": {},
   "source": [
    "# 5. How do you write a string of newlines if you don’t want to use the n character?\n",
    "Ans:> just keep the lines in triple quote.\n"
   ]
  },
  {
   "cell_type": "markdown",
   "id": "3f13742f",
   "metadata": {},
   "source": [
    "# 6. What are the values of the given expressions?\n",
    "Ans:>\n",
    "‘Hello, world!’[1]= e\n",
    "‘Hello, world!’[0:5]= Hello\n",
    "‘Hello, world!’[:5]= Hello\n",
    "‘Hello, world!’[3:]= lo, world!\n"
   ]
  },
  {
   "cell_type": "markdown",
   "id": "e52b76e4",
   "metadata": {},
   "source": [
    "# 7. What are the values of the following expressions?\n",
    "Ans:>‘Hello’.upper()= HELLO.\n",
    "‘Hello’.upper().isupper()= True.\n"
   ]
  },
  {
   "cell_type": "markdown",
   "id": "0274f75c",
   "metadata": {},
   "source": [
    "# 8. What are the values of the following expressions?\n",
    "‘Remember, remember, the fifth of July.’.split()\n",
    "‘-’.join(‘There can only one.’.split())\n",
    "Ans:>Remember, remember, the fifth of July There can only one.\n"
   ]
  },
  {
   "cell_type": "markdown",
   "id": "491ad2e3",
   "metadata": {},
   "source": [
    "# 9. What are the methods for right-justifying, left-justifying, and centering a string?\n",
    "Ans:>  ljust(), rjust(), center()\n",
    "\n",
    "These functions respectively left-justify, right-justify and center a string in a field of given width."
   ]
  },
  {
   "cell_type": "markdown",
   "id": "298ecde1",
   "metadata": {},
   "source": [
    "# 10. What is the best way to remove whitespace characters from the start or end?\n",
    "Ans:> To remove whitespace characters from the beginning or from the end of a string only, you use the trimStart() or trimEnd() method.\n"
   ]
  },
  {
   "cell_type": "code",
   "execution_count": null,
   "id": "f8994916",
   "metadata": {},
   "outputs": [],
   "source": []
  }
 ],
 "metadata": {
  "kernelspec": {
   "display_name": "Python 3",
   "language": "python",
   "name": "python3"
  },
  "language_info": {
   "codemirror_mode": {
    "name": "ipython",
    "version": 3
   },
   "file_extension": ".py",
   "mimetype": "text/x-python",
   "name": "python",
   "nbconvert_exporter": "python",
   "pygments_lexer": "ipython3",
   "version": "3.8.8"
  }
 },
 "nbformat": 4,
 "nbformat_minor": 5
}
